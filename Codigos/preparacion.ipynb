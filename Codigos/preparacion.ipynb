{
 "cells": [
  {
   "cell_type": "code",
   "execution_count": 1,
   "metadata": {},
   "outputs": [],
   "source": [
    "import pandas as pd\n",
    "import tensorflow as tf\n",
    "import matplotlib.pyplot as plt"
   ]
  },
  {
   "cell_type": "code",
   "execution_count": 6,
   "metadata": {},
   "outputs": [],
   "source": [
    "import sys\n",
    "sys.path.append('../')\n",
    "años=[\"2020-21\",\"2019-20\",\"2018-19\",\"2017-18\",\"2015-16\",\"2014-15\",\"2013-14\",\"2012-13\",\"2011-12\",\"2010-11\"]\n",
    "\n",
    "#primero sacamos todos los datos, los partidos entre equipos que sean de la seleccion, cojo los datos de goles, la lista de equipos, recorro los partidos de cada equipo y creo \n",
    "#dos arrays, la entrada son los goles de cada [1L,2V] y la salida el resultado del partido [n,m], luego se lo paso a la red neuronal para que pruebe\n",
    "listaEquipos = pd.read_csv ('../docs/equipo.csv')\n",
    "equipos=list(listaEquipos['Equipo'])\n",
    "partidos=pd.DataFrame(columns=['Local','GolesLocal','GolesVisitante','Visitante'])\n",
    "for año in años:\n",
    "    datos=pd.read_csv(f'../Datos/Champions/resultados{año}.csv')\n",
    "    for i in range(len(datos)):\n",
    "        if str(datos.iloc[i]['Local']) in equipos:\n",
    "            if datos.iloc[i]['Visitante'] in equipos:\n",
    "                partidos=partidos.append({'Local':str(datos.iloc[i]['Local']),'GolesLocal':int(datos.iloc[i]['GolesLocal']),'GolesVisitante':int(datos.iloc[i]['GolesVisitante']),'Visitante':str(datos.iloc[i]['Visitante'])},ignore_index=True)\n"
   ]
  },
  {
   "cell_type": "code",
   "execution_count": 8,
   "metadata": {},
   "outputs": [],
   "source": [
    "resultado=[]\n",
    "entrada=[]\n",
    "df1=pd.read_csv ('../golesChampions.csv')\n",
    "df2=pd.read_csv ('../golesLiga.csv')\n",
    "df1= df1.set_index('Equipo')\n",
    "df2= df2.set_index('Equipo')\n",
    "for i in range(len(partidos)):\n",
    "    local=partidos.iloc[i]['Local']\n",
    "    visitante=partidos.iloc[i]['Visitante']\n",
    "    datosLocal=[df1['golesLocal'][local],df1['golesRecibidosLocal'][local],df1['golesVisitante'][local],df1['golesRecibidosVisitante'][local],df2['golesLocal'][local],df2['golesRecibidosLocal'][local],df2['golesVisitante'][local],df2['golesRecibidosVisitante'][local]]\n",
    "    datosVisitante=[df1['golesLocal'][visitante],df1['golesRecibidosLocal'][visitante],df1['golesVisitante'][visitante],df1['golesRecibidosVisitante'][visitante],df2['golesLocal'][visitante],df2['golesRecibidosLocal'][visitante],df2['golesVisitante'][visitante],df2['golesRecibidosVisitante'][visitante]]\n",
    "    entrada.append([datosLocal[0],datosLocal[1],datosLocal[2],datosLocal[3],datosLocal[4],datosLocal[5],datosLocal[6],datosLocal[7],datosVisitante[0],datosVisitante[1],datosVisitante[2],datosVisitante[3],datosVisitante[4],datosVisitante[5],datosVisitante[6],datosVisitante[7]])\n",
    "    resultado.append([partidos.iloc[i]['GolesLocal'],partidos.iloc[i]['GolesVisitante']])\n"
   ]
  },
  {
   "cell_type": "code",
   "execution_count": 9,
   "metadata": {},
   "outputs": [],
   "source": [
    "tf.keras.layers.Activation('relu')\n",
    "oculta1=tf.keras.layers.Dense(units=20,input_shape=[16])\n",
    "oculta2=tf.keras.layers.Dense(units=20)\n",
    "oculta3=tf.keras.layers.Dense(units=20)\n",
    "oculta4=tf.keras.layers.Dense(units=20)\n",
    "salida=tf.keras.layers.Dense(units=2)\n",
    "modelo=tf.keras.Sequential([oculta1,oculta2,oculta3,oculta4,salida])"
   ]
  },
  {
   "cell_type": "code",
   "execution_count": 10,
   "metadata": {},
   "outputs": [],
   "source": [
    "modelo.compile(\n",
    "    optimizer=tf.keras.optimizers.Adam(0.1),\n",
    "    loss='mean_squared_error'\n",
    ")"
   ]
  },
  {
   "cell_type": "code",
   "execution_count": 11,
   "metadata": {},
   "outputs": [
    {
     "name": "stdout",
     "output_type": "stream",
     "text": [
      "Comenzando entrenamiento...\n",
      "Modelo entrenado!\n"
     ]
    }
   ],
   "source": [
    "\n",
    "print(\"Comenzando entrenamiento...\")\n",
    "historial=modelo.fit(entrada,resultado,epochs=500,verbose=False)\n",
    "print(\"Modelo entrenado!\")"
   ]
  },
  {
   "cell_type": "code",
   "execution_count": 12,
   "metadata": {},
   "outputs": [
    {
     "data": {
      "text/plain": [
       "[<matplotlib.lines.Line2D at 0x7f774c24d1c0>]"
      ]
     },
     "execution_count": 12,
     "metadata": {},
     "output_type": "execute_result"
    },
    {
     "data": {
      "image/png": "[encoded data removed]",
      "text/plain": [
       "<Figure size 432x288 with 1 Axes>"
      ]
     },
     "metadata": {
      "needs_background": "light"
     },
     "output_type": "display_data"
    }
   ],
   "source": [
    "plt.xlabel('Epoca')\n",
    "plt.ylabel('Magnitud de perdida')\n",
    "plt.plot(historial.history['loss'])"
   ]
  },
  {
   "cell_type": "code",
   "execution_count": 13,
   "metadata": {},
   "outputs": [
    {
     "name": "stdout",
     "output_type": "stream",
     "text": [
      "Hagamos una predicción!\n",
      "Partido entre Atalanta y Villarreal\n",
      "1/1 [==============================] - 1s 1s/step\n",
      "El resultado es [[1.4052168  0.94405067]]\n",
      "El resultado es 1.0-1.0\n"
     ]
    }
   ],
   "source": [
    "\n",
    "print(\"Hagamos una predicción!\")\n",
    "print('Partido entre Atalanta y Villarreal')\n",
    "prueba=[1.8333333333333333,0.6666666666666666,1.1666666666666667,1.5,1.631578947368421,1.5263157894736843,1.7894736842105263,1.0,1.0,1.2222222222222223,0.5555555555555556,1.2222222222222223,2.1052631578947367,0.9473684210526315,1.2105263157894737,1.0]\n",
    "solucion=modelo.predict([prueba])\n",
    "print(\"El resultado es {}\".format(solucion))\n",
    "a=round(solucion[0][0],0)\n",
    "b=round(solucion[0][1],0)\n",
    "print(f'El resultado es {a}-{b}')"
   ]
  },
  {
   "cell_type": "code",
   "execution_count": 14,
   "metadata": {},
   "outputs": [
    {
     "name": "stdout",
     "output_type": "stream",
     "text": [
      "Hagamos una predicción!\n",
      "Partido entre Villarreal y Atalanta\n",
      "1/1 [==============================] - 0s 196ms/step\n",
      "El resultado es [[0.9695231 1.583794 ]]\n",
      "El resultado es 1.0-2.0\n"
     ]
    }
   ],
   "source": [
    "print(\"Hagamos una predicción!\")\n",
    "print('Partido entre Villarreal y Atalanta')\n",
    "prueba=[1.0,1.2222222222222223,0.5555555555555556,1.2222222222222223,2.1052631578947367,0.9473684210526315,1.2105263157894737,1.0,1.8333333333333333,0.6666666666666666,1.1666666666666667,1.5,1.631578947368421,1.5263157894736843,1.7894736842105263,1.0]\n",
    "solucion=modelo.predict([prueba])\n",
    "print(\"El resultado es {}\".format(solucion))\n",
    "a=round(solucion[0][0],0)\n",
    "b=round(solucion[0][1],0)\n",
    "print(f'El resultado es {a}-{b}')"
   ]
  },
  {
   "cell_type": "code",
   "execution_count": 15,
   "metadata": {},
   "outputs": [
    {
     "name": "stdout",
     "output_type": "stream",
     "text": [
      "Hagamos una predicción!\n",
      "Partido entre Barcelona y Bayern\n",
      "1/1 [==============================] - 0s 172ms/step\n",
      "El resultado es [[2.087597 1.223537]]\n",
      "El resultado es 2.0-1.0\n"
     ]
    }
   ],
   "source": [
    "print(\"Hagamos una predicción!\")\n",
    "print('Partido entre Barcelona y Bayern')\n",
    "prueba=[2.4126984126984126,0.6825396825396826,1.5714285714285714,1.0317460317460319,1.9473684210526316,1.0,1.631578947368421,1.0,2.3684210526315788,0.631578947368421,1.3333333333333333,1.5614035087719298,2.823529411764706,0.8823529411764706,2.8823529411764706,1.2941176470588236]\n",
    "solucion=modelo.predict([prueba])\n",
    "print(\"El resultado es {}\".format(solucion))\n",
    "a=round(solucion[0][0],0)\n",
    "b=round(solucion[0][1],0)\n",
    "print(f'El resultado es {a}-{b}')"
   ]
  }
 ],
 "metadata": {
  "kernelspec": {
   "display_name": "base",
   "language": "python",
   "name": "python3"
  },
  "language_info": {
   "codemirror_mode": {
    "name": "ipython",
    "version": 3
   },
   "file_extension": ".py",
   "mimetype": "text/x-python",
   "name": "python",
   "nbconvert_exporter": "python",
   "pygments_lexer": "ipython3",
   "version": "3.8.8"
  },
  "orig_nbformat": 4,
  "vscode": {
   "interpreter": {
    "hash": "2f70c2c6f75f001c2435d8036b6cc1833b789af896ffe22ab30918cedbc10c86"
   }
  }
 },
 "nbformat": 4,
 "nbformat_minor": 2
}
